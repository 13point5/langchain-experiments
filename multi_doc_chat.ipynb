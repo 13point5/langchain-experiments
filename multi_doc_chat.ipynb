{
 "cells": [
  {
   "cell_type": "code",
   "execution_count": 4,
   "metadata": {},
   "outputs": [
    {
     "data": {
      "text/plain": [
       "True"
      ]
     },
     "execution_count": 4,
     "metadata": {},
     "output_type": "execute_result"
    }
   ],
   "source": [
    "from dotenv import load_dotenv\n",
    "load_dotenv()"
   ]
  },
  {
   "attachments": {},
   "cell_type": "markdown",
   "metadata": {},
   "source": [
    "[Source notebook](https://github.com/pinecone-io/examples/blob/master/generation/langchain/handbook/08-langchain-retrieval-agent.ipynb)"
   ]
  },
  {
   "attachments": {},
   "cell_type": "markdown",
   "metadata": {},
   "source": [
    "# Embed \"Blocks\""
   ]
  },
  {
   "cell_type": "code",
   "execution_count": 5,
   "metadata": {},
   "outputs": [],
   "source": [
    "from langchain.embeddings.openai import OpenAIEmbeddings\n",
    "from langchain.text_splitter import CharacterTextSplitter\n",
    "from langchain.vectorstores import Chroma\n",
    "from langchain.document_loaders import TextLoader\n",
    "from langchain.docstore.document import Document"
   ]
  },
  {
   "cell_type": "code",
   "execution_count": 3,
   "metadata": {},
   "outputs": [
    {
     "name": "stderr",
     "output_type": "stream",
     "text": [
      "Created a chunk of size 506, which is longer than the specified 500\n",
      "Created a chunk of size 793, which is longer than the specified 500\n"
     ]
    },
    {
     "name": "stdout",
     "output_type": "stream",
     "text": [
      "page_content='Behaviorism' metadata={'source': './Behaviorism.txt'} <class 'langchain.schema.Document'>\n",
      "page_content='Cognitivism\\nCognitivism is a learning theory that focusses on how information is received, organized, stored and retrieved by the mind. It uses the mind as an information processer, like a computer. Therefore, cognitivism looks beyond observable behaviour, viewing learning as internal mental processes. In this view, learners are actively involved in the way they process information. Knowledge, memory, thinking, and problem solving are areas for development.' metadata={'source': './Cognitivism.txt'} <class 'langchain.schema.Document'>\n"
     ]
    }
   ],
   "source": [
    "files = [{ \"path\": \"./Behaviorism.txt\", \"id\": \"bw456\" }, { \"path\": \"./Cognitivism.txt\", \"id\": \"cg789\" }]\n",
    "docs = []\n",
    "text_splitter = CharacterTextSplitter(chunk_size=500, chunk_overlap=0)\n",
    "for file in files:\n",
    "\tloader = TextLoader(file[\"path\"])\n",
    "\tdocuments = loader.load()\n",
    "\tchunks = text_splitter.split_documents(documents)\n",
    "\tprint(chunks[0], type(chunks[0]))\n",
    "\tfor chunkIndex, chunk in enumerate(chunks):\n",
    "\t\tdocs.append(Document(page_content=chunk.page_content, metadata={\n",
    "\t\t\t\"blockId\": file[\"id\"],\n",
    "\t\t\t\"source\": chunk.metadata[\"source\"],\n",
    "\t\t\t\"chunkIndex\": chunkIndex\n",
    "\t\t}))"
   ]
  },
  {
   "cell_type": "code",
   "execution_count": 6,
   "metadata": {},
   "outputs": [],
   "source": [
    "embeddings = OpenAIEmbeddings()"
   ]
  },
  {
   "cell_type": "code",
   "execution_count": 5,
   "metadata": {},
   "outputs": [],
   "source": [
    "# db = Chroma.from_documents(docs, embeddings, persist_directory=\"./chroma_db\")\n",
    "# db.persist()\n",
    "# db = None"
   ]
  },
  {
   "cell_type": "code",
   "execution_count": 7,
   "metadata": {},
   "outputs": [],
   "source": [
    "db = Chroma(persist_directory=\"./chroma_db\", embedding_function=embeddings)"
   ]
  },
  {
   "cell_type": "code",
   "execution_count": 8,
   "metadata": {},
   "outputs": [
    {
     "data": {
      "text/plain": [
       "[Document(page_content='Behaviorism', metadata={'blockId': 'bw456', 'source': './Behaviorism.txt', 'chunkIndex': 0}),\n",
       " Document(page_content='Behaviorism is a theory of learning; it’s based on the idea that our behavior is learned as a result of interaction with our external environment. Interaction with our external environment can include an interaction with a certain person, a certain object, or with certain surroundings.', metadata={'blockId': 'bw456', 'source': './Behaviorism.txt', 'chunkIndex': 2}),\n",
       " Document(page_content='Key Terms\\nBehaviorism: A theory and school of thought in psychology which states that all types of human behavior can be learned through two key types of conditioning: classical conditioning and operant conditioning. The terms behaviorism and behavioral perspective can also be used interchangeably.\\n\\nStimulus: Anything that occurs in the environment that elicits a response from an individual.', metadata={'blockId': 'bw456', 'source': './Behaviorism.txt', 'chunkIndex': 5}),\n",
       " Document(page_content='Our behavior is learned through a process called conditioning. Conditioning is a learning process that can lead to habits and is the result of training ourselves to react a certain way in different scenarios.1 Behaviorism presents two main types of conditioning:', metadata={'blockId': 'bw456', 'source': './Behaviorism.txt', 'chunkIndex': 3})]"
      ]
     },
     "execution_count": 8,
     "metadata": {},
     "output_type": "execute_result"
    }
   ],
   "source": [
    "query = \"What is behaviorism\"\n",
    "db.similarity_search(query)"
   ]
  },
  {
   "attachments": {},
   "cell_type": "markdown",
   "metadata": {},
   "source": [
    "# Self Query Retriever\n",
    "This helps to get docs for a block using its ID"
   ]
  },
  {
   "cell_type": "code",
   "execution_count": 26,
   "metadata": {},
   "outputs": [],
   "source": [
    "from langchain.llms import OpenAI\n",
    "from langchain.retrievers.self_query.base import SelfQueryRetriever\n",
    "from langchain.chains.query_constructor.base import AttributeInfo\n",
    "\n",
    "metadata_field_info = [\n",
    "    AttributeInfo(\n",
    "        name=\"blockId\",\n",
    "        description=\"The ID of the block this chunk is in\",\n",
    "        type=\"string\",\n",
    "    ),\n",
    "    AttributeInfo(\n",
    "        name=\"source\",\n",
    "        description=\"The path to the file of the source document\",\n",
    "        type=\"string\",\n",
    "    ),\n",
    "]\n",
    "document_content_description = \"Info of a block\"\n",
    "llm = OpenAI(temperature=0)\n",
    "retriever = SelfQueryRetriever.from_llm(\n",
    "    llm, db, document_content_description, metadata_field_info, verbose=True\n",
    ")"
   ]
  },
  {
   "attachments": {},
   "cell_type": "markdown",
   "metadata": {},
   "source": [
    "# Initializing the Conversational Agent\n",
    "Our conversational agent needs a Chat LLM, conversational memory, and a `RetrievalQA` chain to initialize."
   ]
  },
  {
   "cell_type": "code",
   "execution_count": 28,
   "metadata": {},
   "outputs": [],
   "source": [
    "from langchain.chat_models import ChatOpenAI\n",
    "from langchain.chains.conversation.memory import ConversationBufferWindowMemory\n",
    "from langchain.chains import RetrievalQAWithSourcesChain\n",
    "\n",
    "# chat completion llm\n",
    "llm = ChatOpenAI(\n",
    "    model_name='gpt-3.5-turbo-0613',\n",
    "    temperature=0.7\n",
    ")\n",
    "# conversational memory\n",
    "conversational_memory = ConversationBufferWindowMemory(\n",
    "    memory_key='chat_history',\n",
    "    k=5,\n",
    "    return_messages=True\n",
    ")\n",
    "# retrieval qa chain\n",
    "qa = RetrievalQAWithSourcesChain.from_chain_type(\n",
    "    llm=llm,\n",
    "    chain_type=\"stuff\",\n",
    "    retriever=retriever,\n",
    "    return_source_documents=True\n",
    ")"
   ]
  },
  {
   "attachments": {},
   "cell_type": "markdown",
   "metadata": {},
   "source": [
    "But this isn't yet ready for our conversational agent. For that we need to convert this retrieval chain into a tool. We do that like so:"
   ]
  },
  {
   "cell_type": "code",
   "execution_count": 29,
   "metadata": {},
   "outputs": [],
   "source": [
    "from langchain.agents import Tool\n",
    "from pydantic import BaseModel, Field\n",
    "\n",
    "\n",
    "class BlockQaInput(BaseModel):\n",
    "    question: str = Field()\n",
    "\n",
    "def blockQA(question):\n",
    "    return qa({\"question\": question})\n",
    "\n",
    "tools = [\n",
    "    Tool(\n",
    "        name='Blocks Info',\n",
    "        func=blockQA,\n",
    "        args_schema=BlockQaInput,\n",
    "        description=(\n",
    "            'use this tool to answer questions about a single block'\n",
    "        )\n",
    "    )\n",
    "]"
   ]
  },
  {
   "attachments": {},
   "cell_type": "markdown",
   "metadata": {},
   "source": [
    "# `STRUCTURED_CHAT_ZERO_SHOT_REACT_DESCRIPTION` is DOPE 🔥🔥🔥"
   ]
  },
  {
   "cell_type": "code",
   "execution_count": 30,
   "metadata": {},
   "outputs": [],
   "source": [
    "from langchain.agents import initialize_agent\n",
    "from langchain.agents.agent_types import AgentType\n",
    "\n",
    "agent = initialize_agent(\n",
    "    agent=AgentType.STRUCTURED_CHAT_ZERO_SHOT_REACT_DESCRIPTION,\n",
    "    tools=tools,\n",
    "    llm=llm,\n",
    "    verbose=True,\n",
    "    max_iterations=3,\n",
    "    early_stopping_method='generate',\n",
    "    memory=conversational_memory\n",
    ")"
   ]
  },
  {
   "cell_type": "code",
   "execution_count": 36,
   "metadata": {},
   "outputs": [],
   "source": [
    "QUERY=\"\"\"\\\n",
    "Instructions:\n",
    "Create a task for a single block and then combine results from tasks to answer the query. Use new lines in the final response to make it presentable.\n",
    "\n",
    "User Query:\n",
    "How is @block:bw456 different from @block:cg789 in their ideas on learning?\n",
    "\"\"\""
   ]
  },
  {
   "cell_type": "code",
   "execution_count": 38,
   "metadata": {},
   "outputs": [
    {
     "name": "stdout",
     "output_type": "stream",
     "text": [
      "\n",
      "\n",
      "\u001b[1m> Entering new  chain...\u001b[0m\n",
      "\u001b[32;1m\u001b[1;3mThought: To answer this query, I need to create tasks for both @block:bw456 and @block:cg789 and gather information about their ideas on learning. Then I can combine the results to provide a comprehensive response.\n",
      "\n",
      "Action: \n",
      "```\n",
      "{\n",
      "  \"action\": \"Blocks Info\",\n",
      "  \"action_input\": {\n",
      "    \"question\": \"What are the ideas on learning in @block:bw456?\"\n",
      "  }\n",
      "}\n",
      "```\n",
      "\n",
      "\u001b[0mquery='ideas on learning' filter=Comparison(comparator=<Comparator.EQ: 'eq'>, attribute='blockId', value='bw456') limit=None\n",
      "\n",
      "Observation: \u001b[36;1m\u001b[1;3m{'question': 'What are the ideas on learning in @block:bw456?', 'answer': 'The ideas on learning in @block:bw456 are based on behaviorism. Behaviorism is a theory of learning that emphasizes the role of our external environment in shaping our behavior. It suggests that our behavior is learned through a process called conditioning, which can lead to the formation of habits. Behaviorism presents two main types of conditioning: classical conditioning and operant conditioning. Classical conditioning involves learning associations between stimuli, while operant conditioning involves learning through rewards and punishments. Behaviorists believe that anyone can be trained to perform tasks within their capabilities through the right conditioning. \\n', 'sources': './Behaviorism.txt', 'source_documents': [Document(page_content='Behaviorism', metadata={'blockId': 'bw456', 'source': './Behaviorism.txt', 'chunkIndex': 0}), Document(page_content='Behaviorism is a theory of learning; it’s based on the idea that our behavior is learned as a result of interaction with our external environment. Interaction with our external environment can include an interaction with a certain person, a certain object, or with certain surroundings.', metadata={'blockId': 'bw456', 'source': './Behaviorism.txt', 'chunkIndex': 2}), Document(page_content='Our behavior is learned through a process called conditioning. Conditioning is a learning process that can lead to habits and is the result of training ourselves to react a certain way in different scenarios.1 Behaviorism presents two main types of conditioning:', metadata={'blockId': 'bw456', 'source': './Behaviorism.txt', 'chunkIndex': 3}), Document(page_content='Classical conditioning: when a dog learns to get excited when we walk towards the bag of dog food because the dog has learned that it would mean they get to eat right away.\\nOperant conditioning: when a trainer successfully teaches a dog how to sit on command with the help of incentives, such as a treat every time they do it correctly.\\nStrong believers of behaviorism argue that with the right conditioning, anyone can be trained to do any task within their capabilities, regardless of one’s personality.1', metadata={'blockId': 'bw456', 'source': './Behaviorism.txt', 'chunkIndex': 4})]}\u001b[0m\n",
      "Thought:\u001b[32;1m\u001b[1;3mNow I have gathered information about the ideas on learning in @block:bw456, which is based on behaviorism. Behaviorism is a theory of learning that emphasizes the role of our external environment in shaping our behavior. It suggests that our behavior is learned through a process called conditioning, which can lead to the formation of habits. Behaviorism presents two main types of conditioning: classical conditioning and operant conditioning. Classical conditioning involves learning associations between stimuli, while operant conditioning involves learning through rewards and punishments. Behaviorists believe that anyone can be trained to perform tasks within their capabilities through the right conditioning.\n",
      "\n",
      "Next, I need to create a task to gather information about the ideas on learning in @block:cg789.\n",
      "\n",
      "Action: \n",
      "```\n",
      "{\n",
      "  \"action\": \"Blocks Info\",\n",
      "  \"action_input\": {\n",
      "    \"question\": \"What are the ideas on learning in @block:cg789?\"\n",
      "  }\n",
      "}\n",
      "```\u001b[0mquery='ideas on learning' filter=Comparison(comparator=<Comparator.EQ: 'eq'>, attribute='blockId', value='cg789') limit=None\n",
      "\n",
      "Observation: \u001b[36;1m\u001b[1;3m{'question': 'What are the ideas on learning in @block:cg789?', 'answer': \"The ideas on learning in @block:cg789 are that learning is a process of organizing information into conceptualized models, instructions should be organized and presented in a meaningful way, retention and recall are important for building schemas in the brain, memory is supported by organizing learning material, and teachers should provide tools to help learners process information. The main principles of the cognitive learning theory include understanding how information is received, organized, stored, and retrieved by the mind. Cognitivism views learning as internal mental processes and recognizes that learners are actively involved in processing information. Cognitivism developed as a reaction to Behaviorism and gained popularity in the 1950s, with Piaget's views having a significant impact. Cognitivists focus on symbolic mental constructs and schemata as a basis for learning. The field continues to evolve as researchers and educators explore how to apply knowledge about the brain in the classroom.\\n\", 'sources': './Cognitivism.txt', 'source_documents': [Document(page_content='Learning is a process of organizing information into conceptualized models.\\nInstructions should be organized, sequenced and presented in a manner that\\nis understandable and meaningful to the learner.\\nRetention and recall is important to build schema’s in the brain.\\nMemory is supported by organizing learning material.\\nTeachers must provide tools that help learner’s brain process information.', metadata={'blockId': 'cg789', 'source': './Cognitivism.txt', 'chunkIndex': 3}), Document(page_content='Key principles and classroom implications\\nThe main principles underpinning the cognitive learning theory are:', metadata={'blockId': 'cg789', 'source': './Cognitivism.txt', 'chunkIndex': 2}), Document(page_content='Cognitivism\\nCognitivism is a learning theory that focusses on how information is received, organized, stored and retrieved by the mind. It uses the mind as an information processer, like a computer. Therefore, cognitivism looks beyond observable behaviour, viewing learning as internal mental processes. In this view, learners are actively involved in the way they process information. Knowledge, memory, thinking, and problem solving are areas for development.', metadata={'blockId': 'cg789', 'source': './Cognitivism.txt', 'chunkIndex': 0}), Document(page_content=\"History\\nCognitivist theory developed as a reaction to Behaviorism and gained credence in the 1950s. Cognitivists objected to behaviorists because they felt that behaviorists thought learning was simply a reaction to a stimulus and ignored the idea that thinking plays an important role. Although many researchers contributed to the development of the learning theory (e.g. Bruner, Vygotsky, Bloom, Ausubel), Piaget’s views had a tremendous impact. Spurred by the work of Piaget (Constructivism), knowledge is viewed as symbolic mental constructs, or schemata. When a learners' schemata are changed, learning takes place. As neuroscientists continue to discover more about how the brain works, cognitive psychologists and educators are concerned with how to use that knowledge in the classroom.\", metadata={'blockId': 'cg789', 'source': './Cognitivism.txt', 'chunkIndex': 1})]}\u001b[0m\n",
      "Thought:\u001b[32;1m\u001b[1;3mNow I have gathered information about the ideas on learning in @block:cg789, which is based on cognitive learning theory. According to @block:cg789, learning is a process of organizing information into conceptualized models. Instructions should be organized and presented in a meaningful way. Retention and recall are important for building schemas in the brain, and memory is supported by organizing learning material. The main principles of the cognitive learning theory include understanding how information is received, organized, stored, and retrieved by the mind. Cognitivism views learning as internal mental processes and recognizes that learners are actively involved in processing information.\n",
      "\n",
      "Next, I will combine the results from both blocks to answer the query.\n",
      "\n",
      "Action:\n",
      "```\n",
      "{\n",
      "  \"action\": \"Final Answer\",\n",
      "  \"action_input\": \"The ideas on learning in @block:bw456 are based on behaviorism, which emphasizes the role of the external environment in shaping behavior. Behaviorism suggests that behavior is learned through conditioning, either classical or operant. Behaviorists believe that anyone can be trained to perform tasks through the right conditioning.\\n\\nOn the other hand, the ideas on learning in @block:cg789 are based on cognitive learning theory. According to @block:cg789, learning is a process of organizing information into conceptualized models. Instructions should be organized and presented in a meaningful way. Retention and recall are important for building schemas in the brain, and memory is supported by organizing learning material. Cognitivism views learning as internal mental processes and recognizes that learners are actively involved in processing information.\\n\"\n",
      "}\n",
      "```\n",
      "\n",
      "\u001b[0m\n",
      "\n",
      "\u001b[1m> Finished chain.\u001b[0m\n"
     ]
    }
   ],
   "source": [
    "res = agent(QUERY)"
   ]
  },
  {
   "cell_type": "code",
   "execution_count": 39,
   "metadata": {},
   "outputs": [
    {
     "name": "stdout",
     "output_type": "stream",
     "text": [
      "The ideas on learning in @block:bw456 are based on behaviorism, which emphasizes the role of the external environment in shaping behavior. Behaviorism suggests that behavior is learned through conditioning, either classical or operant. Behaviorists believe that anyone can be trained to perform tasks through the right conditioning.\n",
      "\n",
      "On the other hand, the ideas on learning in @block:cg789 are based on cognitive learning theory. According to @block:cg789, learning is a process of organizing information into conceptualized models. Instructions should be organized and presented in a meaningful way. Retention and recall are important for building schemas in the brain, and memory is supported by organizing learning material. Cognitivism views learning as internal mental processes and recognizes that learners are actively involved in processing information.\n",
      "\n"
     ]
    }
   ],
   "source": [
    "print(res[\"output\"])"
   ]
  }
 ],
 "metadata": {
  "kernelspec": {
   "display_name": "auto-agents-experiments-fE4dNqDC-py3.10",
   "language": "python",
   "name": "python3"
  },
  "language_info": {
   "codemirror_mode": {
    "name": "ipython",
    "version": 3
   },
   "file_extension": ".py",
   "mimetype": "text/x-python",
   "name": "python",
   "nbconvert_exporter": "python",
   "pygments_lexer": "ipython3",
   "version": "3.10.6"
  },
  "orig_nbformat": 4
 },
 "nbformat": 4,
 "nbformat_minor": 2
}
