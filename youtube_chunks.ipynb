{
 "cells": [
  {
   "cell_type": "code",
   "execution_count": 6,
   "metadata": {},
   "outputs": [
    {
     "data": {
      "text/plain": [
       "True"
      ]
     },
     "execution_count": 6,
     "metadata": {},
     "output_type": "execute_result"
    }
   ],
   "source": [
    "from dotenv import load_dotenv\n",
    "load_dotenv()"
   ]
  },
  {
   "attachments": {},
   "cell_type": "markdown",
   "metadata": {},
   "source": [
    "# Replicate x Whisper"
   ]
  },
  {
   "attachments": {},
   "cell_type": "markdown",
   "metadata": {},
   "source": [
    "## Wishlist\n",
    "- [ ] When querying these chunks consecutive chunks need to be grouped because the chunks are too small\n",
    "\t\t\t\n",
    "\tIdea 1:\n",
    "\t- Store these small chunks as is\n",
    "\t- Chunk the whole transcript, embed and store like a normal txt file\n",
    "\t- Extract chunks from the embedded ones and then get the start and end timestamps by comparing the text with the stored small chunks"
   ]
  },
  {
   "cell_type": "code",
   "execution_count": 7,
   "metadata": {},
   "outputs": [],
   "source": [
    "import replicate\n",
    "import json"
   ]
  },
  {
   "cell_type": "code",
   "execution_count": null,
   "metadata": {},
   "outputs": [],
   "source": [
    "# output = replicate.run(\n",
    "#     \"openai/whisper:91ee9c0c3df30478510ff8c8a3a545add1ad0259ad3a9f78fba57fbc05ee64f7\",\n",
    "#     input={\"audio\": open(\"./data/youtube/Sal Khan's thoughts on mastery learning.m4a\", \"rb\")}\n",
    "# )\n",
    "# print(output)\n",
    "# with open(\"./data/youtube/Sal Khan's thoughts on mastery learning - Replicate x Whisper API Response.json\", 'w') as f:\n",
    "# \tjson.dump(output, f)"
   ]
  },
  {
   "cell_type": "code",
   "execution_count": 31,
   "metadata": {},
   "outputs": [],
   "source": [
    "# with open(\"./data/youtube/Sal Khan's thoughts on mastery learning - Transcription.txt\", \"w\") as f:\n",
    "# \tf.write(output['transcription'])\n",
    "\n",
    "# with open(\"./data/youtube/Sal Khan's thoughts on mastery learning - Segments.txt\", \"a\") as f:\n",
    "# \tfor chunk in output['segments']:\n",
    "# \t\tf.write(chunk['text'] + \"\\n\")"
   ]
  },
  {
   "cell_type": "code",
   "execution_count": 8,
   "metadata": {},
   "outputs": [],
   "source": [
    "output = json.load(open(\"./data/youtube/Sal Khan's thoughts on mastery learning - Replicate x Whisper API Response.json\", 'r'))"
   ]
  },
  {
   "cell_type": "code",
   "execution_count": 30,
   "metadata": {},
   "outputs": [
    {
     "data": {
      "text/plain": [
       "['detected_language', 'segments', 'transcription', 'translation']"
      ]
     },
     "execution_count": 30,
     "metadata": {},
     "output_type": "execute_result"
    }
   ],
   "source": [
    "list(output.keys())"
   ]
  },
  {
   "cell_type": "code",
   "execution_count": 5,
   "metadata": {},
   "outputs": [
    {
     "data": {
      "text/plain": [
       "{'avg_logprob': -0.3576602739157136,\n",
       " 'compression_ratio': 1.6016260162601625,\n",
       " 'end': 7,\n",
       " 'id': 0,\n",
       " 'no_speech_prob': 0.00015473616076633334,\n",
       " 'seek': 0,\n",
       " 'start': 0,\n",
       " 'temperature': 0,\n",
       " 'text': ' This idea of mastery learning was always kind of this gold standard.',\n",
       " 'tokens': [50364,\n",
       "  639,\n",
       "  1558,\n",
       "  295,\n",
       "  37951,\n",
       "  2539,\n",
       "  390,\n",
       "  1009,\n",
       "  733,\n",
       "  295,\n",
       "  341,\n",
       "  3821,\n",
       "  3832,\n",
       "  13,\n",
       "  50714]}"
      ]
     },
     "execution_count": 5,
     "metadata": {},
     "output_type": "execute_result"
    }
   ],
   "source": [
    "output['segments'][0]"
   ]
  },
  {
   "cell_type": "code",
   "execution_count": 21,
   "metadata": {},
   "outputs": [],
   "source": [
    "transcript = \"\\n\".join([segment['text'] for segment in output['segments']])\n",
    "transcript = transcript.strip()"
   ]
  },
  {
   "cell_type": "code",
   "execution_count": 34,
   "metadata": {},
   "outputs": [],
   "source": [
    "from langchain.embeddings.openai import OpenAIEmbeddings\n",
    "from langchain.text_splitter import RecursiveCharacterTextSplitter\n",
    "from langchain.vectorstores import Chroma\n",
    "from langchain.docstore.document import Document"
   ]
  },
  {
   "cell_type": "code",
   "execution_count": 14,
   "metadata": {},
   "outputs": [],
   "source": [
    "textSplitter = RecursiveCharacterTextSplitter(chunk_size=500, chunk_overlap=100)"
   ]
  },
  {
   "cell_type": "code",
   "execution_count": 22,
   "metadata": {},
   "outputs": [
    {
     "data": {
      "text/plain": [
       "[Document(page_content=\"This idea of mastery learning was always kind of this gold standard.\\n This was actually as a part of a fellowship I had while I was at MIT called the El Orante Fellowship\\n to make a learning software for students with ADHD.\\n It is X plus 5 times X plus...\\n And it immediately struck a chord with me because going into that,\\n the whole premise of the software that I was working on was this idea that\\n it's not that students aren't capable of learning some advanced mathematics\", metadata={}),\n",
       " Document(page_content=\"it's not that students aren't capable of learning some advanced mathematics\\n or that the topics are actually difficult,\\n it's more that they just have gaps in their knowledge.\\n And I did a lot of tutoring in high school and I saw that over and over again\\n that the reason why students were having...\\n My friends were having trouble with algebra or geometry.\\n It was just because they had a gap in their negative numbers\\n or dividing decimals or logarithms or whatever else.\", metadata={}),\n",
       " Document(page_content=\"or dividing decimals or logarithms or whatever else.\\n First time in a spile...\\n Good students start failing algebra all of a sudden\\n and start failing calculus all of a sudden,\\n despite it being smart, despite having good teachers,\\n and it's usually because they had these Swiss cheese gaps\\n that kept building throughout their foundations.\\n Now, a lot of skeptics might say,\\n well, hey, this is all great philosophically,\\n this whole idea of mastery-based learning and its connection to mindset,\", metadata={}),\n",
       " Document(page_content=\"this whole idea of mastery-based learning and its connection to mindset,\\n students taking agency over their learning,\\n makes a lot of sense, but it seems impractical.\\n Mastery-based Learning\\n The real philosophical core of Khan Academy is mastery learning.\\n And everything we've built, whether it's the video library,\\n the articles we have, the 70,000 items,\\n the game mechanics that we have on our site,\\n it's all in service to mastery learning.\\n Khan Academy\\n www.khanacademy.com\", metadata={})]"
      ]
     },
     "execution_count": 22,
     "metadata": {},
     "output_type": "execute_result"
    }
   ],
   "source": [
    "transcriptChunks = textSplitter.create_documents([ transcript ])\n",
    "transcriptChunks"
   ]
  },
  {
   "cell_type": "code",
   "execution_count": 32,
   "metadata": {},
   "outputs": [],
   "source": [
    "SEGMENT_OVERLAP_SECONDS = 2\n",
    "chunksWithSegments = []\n",
    "\n",
    "for chunk in transcriptChunks:\n",
    "    chunkText = chunk.page_content\n",
    "\n",
    "    chunkSegments = []\n",
    "    for segment in output['segments']:\n",
    "        if segment['text'].strip() in chunkText:\n",
    "            chunkSegments.append(segment)\n",
    "\n",
    "    # Store consecutive segments as one segment\n",
    "    consecutiveSegments = [{\n",
    "        'start': chunkSegments[0]['start'],\n",
    "        'end': chunkSegments[0]['end']\n",
    "    }]\n",
    "\n",
    "    for segment in chunkSegments[1:]:\n",
    "        lastSegmentEnd = consecutiveSegments[-1]['end']\n",
    "        if segment['start'] in range(lastSegmentEnd, lastSegmentEnd + SEGMENT_OVERLAP_SECONDS):\n",
    "            consecutiveSegments[-1]['end'] = segment['end']\n",
    "        else:\n",
    "            consecutiveSegments.append({\n",
    "                'start': segment['start'],\n",
    "                'end': segment['end']\n",
    "            })\n",
    "    \n",
    "    chunksWithSegments.append(Document(\n",
    "        page_content=chunkText,\n",
    "        metadata={\n",
    "        'segments': consecutiveSegments\n",
    "        })\n",
    "    )\n"
   ]
  },
  {
   "cell_type": "code",
   "execution_count": 33,
   "metadata": {},
   "outputs": [
    {
     "name": "stdout",
     "output_type": "stream",
     "text": [
      "page_content=\"This idea of mastery learning was always kind of this gold standard.\\n This was actually as a part of a fellowship I had while I was at MIT called the El Orante Fellowship\\n to make a learning software for students with ADHD.\\n It is X plus 5 times X plus...\\n And it immediately struck a chord with me because going into that,\\n the whole premise of the software that I was working on was this idea that\\n it's not that students aren't capable of learning some advanced mathematics\" metadata={'segments': [{'start': 0, 'end': 31}]}\n",
      "page_content=\"it's not that students aren't capable of learning some advanced mathematics\\n or that the topics are actually difficult,\\n it's more that they just have gaps in their knowledge.\\n And I did a lot of tutoring in high school and I saw that over and over again\\n that the reason why students were having...\\n My friends were having trouble with algebra or geometry.\\n It was just because they had a gap in their negative numbers\\n or dividing decimals or logarithms or whatever else.\" metadata={'segments': [{'start': 27, 'end': 53}]}\n",
      "page_content=\"or dividing decimals or logarithms or whatever else.\\n First time in a spile...\\n Good students start failing algebra all of a sudden\\n and start failing calculus all of a sudden,\\n despite it being smart, despite having good teachers,\\n and it's usually because they had these Swiss cheese gaps\\n that kept building throughout their foundations.\\n Now, a lot of skeptics might say,\\n well, hey, this is all great philosophically,\\n this whole idea of mastery-based learning and its connection to mindset,\" metadata={'segments': [{'start': 49, 'end': 53}, {'start': 58, 'end': 80}]}\n",
      "page_content=\"this whole idea of mastery-based learning and its connection to mindset,\\n students taking agency over their learning,\\n makes a lot of sense, but it seems impractical.\\n Mastery-based Learning\\n The real philosophical core of Khan Academy is mastery learning.\\n And everything we've built, whether it's the video library,\\n the articles we have, the 70,000 items,\\n the game mechanics that we have on our site,\\n it's all in service to mastery learning.\\n Khan Academy\\n www.khanacademy.com\" metadata={'segments': [{'start': 77, 'end': 91}, {'start': 97, 'end': 120}]}\n"
     ]
    }
   ],
   "source": [
    "for chunk in chunksWithSegments:\n",
    "    print(chunk)"
   ]
  }
 ],
 "metadata": {
  "kernelspec": {
   "display_name": "langchain-experiments-R139ZWD2-py3.10",
   "language": "python",
   "name": "python3"
  },
  "language_info": {
   "codemirror_mode": {
    "name": "ipython",
    "version": 3
   },
   "file_extension": ".py",
   "mimetype": "text/x-python",
   "name": "python",
   "nbconvert_exporter": "python",
   "pygments_lexer": "ipython3",
   "version": "3.10.6"
  },
  "orig_nbformat": 4
 },
 "nbformat": 4,
 "nbformat_minor": 2
}
