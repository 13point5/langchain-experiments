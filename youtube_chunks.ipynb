{
 "cells": [
  {
   "cell_type": "code",
   "execution_count": 17,
   "metadata": {},
   "outputs": [
    {
     "data": {
      "text/plain": [
       "True"
      ]
     },
     "execution_count": 17,
     "metadata": {},
     "output_type": "execute_result"
    }
   ],
   "source": [
    "from dotenv import load_dotenv\n",
    "load_dotenv()"
   ]
  },
  {
   "cell_type": "code",
   "execution_count": 2,
   "metadata": {},
   "outputs": [],
   "source": [
    "\n",
    "from langchain.document_loaders.generic import GenericLoader\n",
    "from langchain.document_loaders.parsers import OpenAIWhisperParser\n",
    "from langchain.document_loaders.blob_loaders.youtube_audio import YoutubeAudioLoader"
   ]
  },
  {
   "attachments": {},
   "cell_type": "markdown",
   "metadata": {},
   "source": [
    "# `GenericLoader`"
   ]
  },
  {
   "cell_type": "code",
   "execution_count": 3,
   "metadata": {},
   "outputs": [
    {
     "name": "stdout",
     "output_type": "stream",
     "text": [
      "[youtube] Extracting URL: https://youtu.be/lGaQWIV8PZ4\n",
      "[youtube] lGaQWIV8PZ4: Downloading webpage\n",
      "[youtube] lGaQWIV8PZ4: Downloading ios player API JSON\n",
      "[youtube] lGaQWIV8PZ4: Downloading android player API JSON\n",
      "[youtube] lGaQWIV8PZ4: Downloading m3u8 information\n",
      "[info] lGaQWIV8PZ4: Downloading 1 format(s): 140\n",
      "[download] ./data/youtube/Sal Khan's thoughts on mastery learning.m4a has already been downloaded\n",
      "[download] 100% of    1.86MiB\n",
      "[ExtractAudio] Not converting audio ./data/youtube/Sal Khan's thoughts on mastery learning.m4a; file is already in target format m4a\n",
      "Transcribing part 1!\n",
      "Something False\n",
      "Response type: <class 'openai.openai_response.OpenAIResponse'>\n",
      "<openai.openai_response.OpenAIResponse object at 0x7f40672c1960>\n",
      "Transcript {\n",
      "  \"text\": \"This idea of mastery learning was always kind of this gold standard. This was actually as a part of a fellowship I had while I was at MIT called the El Orante Fellowship to make a learning software for students with ADHD. It is X plus 5 times X plus... And it immediately struck a chord with me because going into that, the whole premise of the software that I was working on was this idea that it's not that students aren't capable of learning some advanced mathematics or that the topics are actually difficult, it's more that they just have gaps in their knowledge. And I did a lot of tutoring in high school and I saw that over and over again that the reason why students were having... My friends were having trouble with algebra or geometry, it was just because they had a gap in their negative numbers or dividing decimals or logarithms or whatever else. Good students start failing algebra all of a sudden and start failing calculus all of a sudden, despite it being smart, despite having good teachers, and it's usually because they had these Swiss cheese gaps that kept building throughout their foundations. Now, a lot of skeptics might say, well, hey, this is all great, philosophically, this whole idea of mastery-based learning and its connection to mindset, students taking agency over their learning, makes a lot of sense, but it seems impractical. The real philosophical core of Khan Academy is mastery learning. And everything we've built, whether it's the video library, the articles we have, the 70,000 items, the game mechanics that we have on our site, it's all in service to mastery learning.\"\n",
      "}\n"
     ]
    }
   ],
   "source": [
    "# Sal Khan on mastery learning\n",
    "urls = [\"https://youtu.be/lGaQWIV8PZ4\"]\n",
    "\n",
    "# Directory to save audio files\n",
    "save_dir = \"./data/youtube\"\n",
    "\n",
    "# Transcribe the videos to text\n",
    "loader = GenericLoader(YoutubeAudioLoader(urls, save_dir), OpenAIWhisperParser())\n",
    "docs = loader.load()"
   ]
  },
  {
   "cell_type": "code",
   "execution_count": 4,
   "metadata": {},
   "outputs": [
    {
     "data": {
      "text/plain": [
       "Document(page_content=\"This idea of mastery learning was always kind of this gold standard. This was actually as a part of a fellowship I had while I was at MIT called the El Orante Fellowship to make a learning software for students with ADHD. It is X plus 5 times X plus... And it immediately struck a chord with me because going into that, the whole premise of the software that I was working on was this idea that it's not that students aren't capable of learning some advanced mathematics or that the topics are actually difficult, it's more that they just have gaps in their knowledge. And I did a lot of tutoring in high school and I saw that over and over again that the reason why students were having... My friends were having trouble with algebra or geometry, it was just because they had a gap in their negative numbers or dividing decimals or logarithms or whatever else. Good students start failing algebra all of a sudden and start failing calculus all of a sudden, despite it being smart, despite having good teachers, and it's usually because they had these Swiss cheese gaps that kept building throughout their foundations. Now, a lot of skeptics might say, well, hey, this is all great, philosophically, this whole idea of mastery-based learning and its connection to mindset, students taking agency over their learning, makes a lot of sense, but it seems impractical. The real philosophical core of Khan Academy is mastery learning. And everything we've built, whether it's the video library, the articles we have, the 70,000 items, the game mechanics that we have on our site, it's all in service to mastery learning.\", metadata={'source': \"data/youtube/Sal Khan's thoughts on mastery learning.m4a\", 'chunk': 0})"
      ]
     },
     "execution_count": 4,
     "metadata": {},
     "output_type": "execute_result"
    }
   ],
   "source": [
    "docs[0]"
   ]
  },
  {
   "attachments": {},
   "cell_type": "markdown",
   "metadata": {},
   "source": [
    "## Notes\n",
    "- `YoutubeAudioLoader` downloads every time even if we've got it saved\n",
    "- `OpenAIWhisperParser` has a chunk size of `20 minutes` because of the `25 MB` limit for the Whisper API"
   ]
  },
  {
   "attachments": {},
   "cell_type": "markdown",
   "metadata": {},
   "source": [
    "## Wishlist\n",
    "- [ ] `chunk_duration` in `OpenAIWhisperParser` should be a parameter\n",
    "- [ ] Get timestamps for words in each chunk or just the chunk"
   ]
  },
  {
   "attachments": {},
   "cell_type": "markdown",
   "metadata": {},
   "source": [
    "# Replicate x Whisper"
   ]
  },
  {
   "attachments": {},
   "cell_type": "markdown",
   "metadata": {},
   "source": [
    "## Wishlist\n",
    "- [ ] When querying these chunks consecutive chunks need to be grouped because the chunks are too small"
   ]
  },
  {
   "cell_type": "code",
   "execution_count": 27,
   "metadata": {},
   "outputs": [],
   "source": [
    "import replicate\n",
    "import json"
   ]
  },
  {
   "cell_type": "code",
   "execution_count": null,
   "metadata": {},
   "outputs": [],
   "source": [
    "# output = replicate.run(\n",
    "#     \"openai/whisper:91ee9c0c3df30478510ff8c8a3a545add1ad0259ad3a9f78fba57fbc05ee64f7\",\n",
    "#     input={\"audio\": open(\"./data/youtube/Sal Khan's thoughts on mastery learning.m4a\", \"rb\")}\n",
    "# )\n",
    "# print(output)\n",
    "# with open(\"./data/youtube/Sal Khan's thoughts on mastery learning - Replicate x Whisper API Response.json\", 'w') as f:\n",
    "# \tjson.dump(output, f)"
   ]
  },
  {
   "cell_type": "code",
   "execution_count": 28,
   "metadata": {},
   "outputs": [],
   "source": [
    "output = json.load(open(\"./data/youtube/Sal Khan's thoughts on mastery learning - Replicate x Whisper API Response.json\", 'r'))"
   ]
  },
  {
   "cell_type": "code",
   "execution_count": 30,
   "metadata": {},
   "outputs": [
    {
     "data": {
      "text/plain": [
       "['detected_language', 'segments', 'transcription', 'translation']"
      ]
     },
     "execution_count": 30,
     "metadata": {},
     "output_type": "execute_result"
    }
   ],
   "source": [
    "list(output.keys())"
   ]
  },
  {
   "cell_type": "code",
   "execution_count": 31,
   "metadata": {},
   "outputs": [],
   "source": [
    "with open(\"./data/youtube/Sal Khan's thoughts on mastery learning - Transcription.txt\", \"w\") as f:\n",
    "\tf.write(output['transcription'])"
   ]
  },
  {
   "cell_type": "code",
   "execution_count": 32,
   "metadata": {},
   "outputs": [
    {
     "data": {
      "text/plain": [
       "{'avg_logprob': -0.3576602739157136,\n",
       " 'compression_ratio': 1.6016260162601625,\n",
       " 'end': 7,\n",
       " 'id': 0,\n",
       " 'no_speech_prob': 0.00015473616076633334,\n",
       " 'seek': 0,\n",
       " 'start': 0,\n",
       " 'temperature': 0,\n",
       " 'text': ' This idea of mastery learning was always kind of this gold standard.',\n",
       " 'tokens': [50364,\n",
       "  639,\n",
       "  1558,\n",
       "  295,\n",
       "  37951,\n",
       "  2539,\n",
       "  390,\n",
       "  1009,\n",
       "  733,\n",
       "  295,\n",
       "  341,\n",
       "  3821,\n",
       "  3832,\n",
       "  13,\n",
       "  50714]}"
      ]
     },
     "execution_count": 32,
     "metadata": {},
     "output_type": "execute_result"
    }
   ],
   "source": [
    "output['segments'][0]"
   ]
  },
  {
   "cell_type": "code",
   "execution_count": 38,
   "metadata": {},
   "outputs": [],
   "source": [
    "with open(\"./data/youtube/Sal Khan's thoughts on mastery learning - Segments.txt\", \"a\") as f:\n",
    "\tfor chunk in output['segments']:\n",
    "\t\tf.write(chunk['text'] + \"\\n\")"
   ]
  }
 ],
 "metadata": {
  "kernelspec": {
   "display_name": "langchain-experiments-R139ZWD2-py3.10",
   "language": "python",
   "name": "python3"
  },
  "language_info": {
   "codemirror_mode": {
    "name": "ipython",
    "version": 3
   },
   "file_extension": ".py",
   "mimetype": "text/x-python",
   "name": "python",
   "nbconvert_exporter": "python",
   "pygments_lexer": "ipython3",
   "version": "3.10.6"
  },
  "orig_nbformat": 4
 },
 "nbformat": 4,
 "nbformat_minor": 2
}
