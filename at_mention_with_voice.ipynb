{
 "cells": [
  {
   "cell_type": "code",
   "execution_count": 1,
   "metadata": {},
   "outputs": [],
   "source": [
    "from dotenv import load_dotenv\n",
    "from langchain.prompts import PromptTemplate"
   ]
  },
  {
   "cell_type": "code",
   "execution_count": 2,
   "metadata": {},
   "outputs": [],
   "source": [
    "blockIds = [\"maech35k24\", \"pj63y5i\"]\n",
    "\n",
    "\n",
    "prompt = PromptTemplate.from_template(\"\"\"\n",
    "User query: {query}\n",
    "\n",
    "Blocks selected: {blockIds}\n",
    "\"\"\")\n",
    "                                      \n",
    "query = prompt.format(query=\"What is the difference between the ideas in this and this one?\", blockIds=blockIds)"
   ]
  },
  {
   "cell_type": "code",
   "execution_count": 3,
   "metadata": {},
   "outputs": [],
   "source": [
    "from langchain.agents import initialize_agent, Tool\n",
    "from langchain.agents import AgentType\n",
    "from langchain.chat_models import ChatOpenAI"
   ]
  },
  {
   "cell_type": "code",
   "execution_count": 4,
   "metadata": {},
   "outputs": [],
   "source": [
    "def getBlockInfo(blockId):\n",
    "    if blockId == blockIds[0]:\n",
    "        return \"Behaviorism is a theory of learning; it's based on the idea that our behavior is learned as a result of interaction with our external environment. Interaction with our external environment can include an interaction with a certain person, a certain object, or with certain surroundings.\"\n",
    "    return \"Cognitivism is a learning theory that focusses on how information is received, organized, stored and retrieved by the mind. It uses the mind as an information processer, like a computer. Therefore, cognitivism looks beyond observable behaviour, viewing learning as internal mental processes. In this view, learners are actively involved in the way they process information. Knowledge, memory, thinking, and problem solving are areas for development.\""
   ]
  },
  {
   "cell_type": "code",
   "execution_count": 5,
   "metadata": {},
   "outputs": [],
   "source": [
    "tools = [\n",
    "    Tool(\n",
    "        name=\"getBlockInfo\",\n",
    "        func=getBlockInfo,\n",
    "        description=\"Get information about a block\"\n",
    "\t)\n",
    "]"
   ]
  },
  {
   "cell_type": "code",
   "execution_count": 6,
   "metadata": {},
   "outputs": [],
   "source": [
    "llm = ChatOpenAI(model=\"gpt-3.5-turbo-0613\")"
   ]
  },
  {
   "cell_type": "code",
   "execution_count": 7,
   "metadata": {},
   "outputs": [],
   "source": [
    "agent = initialize_agent(tools, llm, agent=AgentType.OPENAI_FUNCTIONS, verbose=True)"
   ]
  },
  {
   "cell_type": "code",
   "execution_count": 8,
   "metadata": {},
   "outputs": [
    {
     "name": "stdout",
     "output_type": "stream",
     "text": [
      "\n",
      "\n",
      "\u001b[1m> Entering new  chain...\u001b[0m\n"
     ]
    },
    {
     "name": "stdout",
     "output_type": "stream",
     "text": [
      "\u001b[32;1m\u001b[1;3m\n",
      "Invoking: `getBlockInfo` with `maech35k24`\n",
      "\n",
      "\n",
      "\u001b[0m\u001b[36;1m\u001b[1;3mBehaviorism is a theory of learning; it's based on the idea that our behavior is learned as a result of interaction with our external environment. Interaction with our external environment can include an interaction with a certain person, a certain object, or with certain surroundings.\u001b[0m\u001b[32;1m\u001b[1;3m\n",
      "Invoking: `getBlockInfo` with `pj63y5i`\n",
      "\n",
      "\n",
      "\u001b[0m\u001b[36;1m\u001b[1;3mCognitivism is a learning theory that focusses on how information is received, organized, stored and retrieved by the mind. It uses the mind as an information processer, like a computer. Therefore, cognitivism looks beyond observable behaviour, viewing learning as internal mental processes. In this view, learners are actively involved in the way they process information. Knowledge, memory, thinking, and problem solving are areas for development.\u001b[0m\u001b[32;1m\u001b[1;3mThe difference between behaviorism and cognitivism is that behaviorism focuses on how behaviors are learned through interactions with the external environment, while cognitivism focuses on how information is received, organized, stored, and retrieved by the mind. Behaviorism looks at observable behavior, whereas cognitivism looks at internal mental processes.\u001b[0m\n",
      "\n",
      "\u001b[1m> Finished chain.\u001b[0m\n"
     ]
    },
    {
     "data": {
      "text/plain": [
       "'The difference between behaviorism and cognitivism is that behaviorism focuses on how behaviors are learned through interactions with the external environment, while cognitivism focuses on how information is received, organized, stored, and retrieved by the mind. Behaviorism looks at observable behavior, whereas cognitivism looks at internal mental processes.'"
      ]
     },
     "execution_count": 8,
     "metadata": {},
     "output_type": "execute_result"
    }
   ],
   "source": [
    "agent.run(query)"
   ]
  }
 ],
 "metadata": {
  "kernelspec": {
   "display_name": "langchain-experiments-R139ZWD2-py3.10",
   "language": "python",
   "name": "python3"
  },
  "language_info": {
   "codemirror_mode": {
    "name": "ipython",
    "version": 3
   },
   "file_extension": ".py",
   "mimetype": "text/x-python",
   "name": "python",
   "nbconvert_exporter": "python",
   "pygments_lexer": "ipython3",
   "version": "3.10.6"
  },
  "orig_nbformat": 4
 },
 "nbformat": 4,
 "nbformat_minor": 2
}
